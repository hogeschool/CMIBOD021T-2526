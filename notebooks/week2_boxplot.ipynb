{
 "cells": [
  {
   "cell_type": "code",
   "execution_count": 1,
   "metadata": {
    "id": "G6Al3nSExH2Y"
   },
   "outputs": [],
   "source": [
    "import pandas as pd\n",
    "import matplotlib.pyplot as plt\n",
    "\n",
    "# Create dataset as a Series\n",
    "ds1 = pd.Series([65,65,70,75,80,81,85,90,95,100])\n",
    "ds2 = pd.Series([35,35,37,40,43,56,57,58,60])\n",
    "ds3 = pd.Series([21, 22, 24, 25, 29, 37, 49])\n",
    "\n",
    "data = ds3"
   ]
  },
  {
   "cell_type": "code",
   "execution_count": 2,
   "metadata": {
    "colab": {
     "base_uri": "https://localhost:8080/"
    },
    "id": "QP64ONxw87su",
    "outputId": "5c9a540c-f331-4944-8bed-b490fa00d24e"
   },
   "outputs": [
    {
     "name": "stdout",
     "output_type": "stream",
     "text": [
      "\n",
      "Describe():\n",
      " count     7.000000\n",
      "mean     29.571429\n",
      "std      10.130106\n",
      "min      21.000000\n",
      "25%      23.000000\n",
      "50%      25.000000\n",
      "75%      33.000000\n",
      "max      49.000000\n",
      "dtype: float64\n"
     ]
    }
   ],
   "source": [
    "# Full descriptive summary\n",
    "summary = data.describe()\n",
    "print(\"\\nDescribe():\\n\", summary)"
   ]
  },
  {
   "cell_type": "code",
   "execution_count": 3,
   "metadata": {
    "colab": {
     "base_uri": "https://localhost:8080/"
    },
    "id": "y7qHSDO86khO",
    "outputId": "0faa8c08-a828-4865-f71b-a058deb86cc7"
   },
   "outputs": [
    {
     "name": "stdout",
     "output_type": "stream",
     "text": [
      "Mean: 29.571428571428573\n",
      "Median: 25.0\n",
      "Mode: 0    21\n",
      "1    22\n",
      "2    24\n",
      "3    25\n",
      "4    29\n",
      "5    37\n",
      "6    49\n",
      "dtype: int64\n"
     ]
    }
   ],
   "source": [
    "# Measures of Central Tendency\n",
    "mean = data.mean()\n",
    "median = data.median()\n",
    "mode = data.mode()   # can be multiple modes\n",
    "print(\"Mean:\", mean)\n",
    "print(\"Median:\", median)\n",
    "print(\"Mode:\", mode)"
   ]
  },
  {
   "cell_type": "code",
   "execution_count": 4,
   "metadata": {
    "colab": {
     "base_uri": "https://localhost:8080/"
    },
    "id": "8PVBjZ6Q10uK",
    "outputId": "16357451-03b4-44ce-949a-246ce71e5b26"
   },
   "outputs": [
    {
     "name": "stdout",
     "output_type": "stream",
     "text": [
      "Variance: 102.61904761904763\n",
      "Standard Deviation: 10.130106002359879\n"
     ]
    }
   ],
   "source": [
    "# Measures of spread\n",
    "variance = data.var()\n",
    "std_dev = data.std()\n",
    "print(\"Variance:\", variance)\n",
    "print(\"Standard Deviation:\", std_dev)"
   ]
  },
  {
   "cell_type": "code",
   "execution_count": 5,
   "metadata": {
    "colab": {
     "base_uri": "https://localhost:8080/"
    },
    "id": "j-7lnuODxskz",
    "outputId": "5e74122f-589b-4921-ffb7-9ed3e0166765"
   },
   "outputs": [
    {
     "name": "stdout",
     "output_type": "stream",
     "text": [
      "Q1: 23.0\n",
      "Q2 (Median): 25.0\n",
      "Q3: 33.0\n"
     ]
    }
   ],
   "source": [
    "# Quartiles using quantile()\n",
    "Q1 = data.quantile(0.25)\n",
    "Q2 = data.quantile(0.50)  # median\n",
    "Q3 = data.quantile(0.75)\n",
    "\n",
    "print(\"Q1:\", Q1)\n",
    "print(\"Q2 (Median):\", Q2)\n",
    "print(\"Q3:\", Q3)"
   ]
  },
  {
   "cell_type": "code",
   "execution_count": 6,
   "metadata": {
    "colab": {
     "base_uri": "https://localhost:8080/"
    },
    "id": "ggQyW-VU6gLX",
    "outputId": "9d9f6609-e79a-4e65-9614-2855c75e55dc"
   },
   "outputs": [
    {
     "name": "stdout",
     "output_type": "stream",
     "text": [
      "============================================================\n",
      "IQR, FENCES, OUTLIERS\n",
      "IQR: 10.0\n",
      "Lower fence: 8.0\n",
      "Upper fence: 48.0\n",
      "Outliers: [49]\n"
     ]
    }
   ],
   "source": [
    "print(\"=\"*60)\n",
    "print(\"IQR, FENCES, OUTLIERS\")\n",
    "IQR = Q3 - Q1\n",
    "lower_fence = Q1 - 1.5 * IQR\n",
    "upper_fence = Q3 + 1.5 * IQR\n",
    "outliers = data[(data < lower_fence) | (data > upper_fence)]\n",
    "\n",
    "print(\"IQR:\", IQR)\n",
    "print(\"Lower fence:\", lower_fence)\n",
    "print(\"Upper fence:\", upper_fence)\n",
    "print(\"Outliers:\", outliers.tolist() if not outliers.empty else \"None\")"
   ]
  },
  {
   "cell_type": "code",
   "execution_count": 7,
   "metadata": {
    "colab": {
     "base_uri": "https://localhost:8080/",
     "height": 452
    },
    "id": "YQRjV1iv0f-z",
    "outputId": "d53b71cf-8303-438e-e6a9-5f89b359f5d7"
   },
   "outputs": [
    {
     "data": {
      "image/png": "[encoded data removed]",
      "text/plain": [
       "<Figure size 640x480 with 1 Axes>"
      ]
     },
     "metadata": {},
     "output_type": "display_data"
    }
   ],
   "source": [
    "\n",
    "# Create boxplot with Tukey method (IQR, whis=1.5)\n",
    "plt.boxplot(data) # matplotlib.pyplot.boxplot uses the Tukey method by default.\n",
    "plt.title(\"Boxplot\")\n",
    "plt.ylabel(\"Values\")\n",
    "plt.show()"
   ]
  }
 ],
 "metadata": {
  "colab": {
   "provenance": []
  },
  "kernelspec": {
   "display_name": "Python 3 (ipykernel)",
   "language": "python",
   "name": "python3"
  },
  "language_info": {
   "codemirror_mode": {
    "name": "ipython",
    "version": 3
   },
   "file_extension": ".py",
   "mimetype": "text/x-python",
   "name": "python",
   "nbconvert_exporter": "python",
   "pygments_lexer": "ipython3",
   "version": "3.13.7"
  }
 },
 "nbformat": 4,
 "nbformat_minor": 4
}
