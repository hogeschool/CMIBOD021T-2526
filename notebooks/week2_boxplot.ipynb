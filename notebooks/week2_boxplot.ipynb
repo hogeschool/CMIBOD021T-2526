{
 "cells": [
  {
   "cell_type": "markdown",
   "metadata": {},
   "source": [
    "# Part 1 - Slides Datasets"
   ]
  },
  {
   "cell_type": "code",
   "execution_count": 1,
   "metadata": {
    "id": "G6Al3nSExH2Y"
   },
   "outputs": [],
   "source": [
    "import pandas as pd\n",
    "import matplotlib.pyplot as plt\n",
    "import math\n",
    "\n",
    "# Create dataset as a Series\n",
    "ds1 = pd.Series([65,65,70,75,80,81,85,90,95,100])\n",
    "ds2 = pd.Series([35,35,37,40,43,56,57,58,60])\n",
    "ds3 = pd.Series([21, 22, 24, 25, 29, 37, 49])\n",
    "\n",
    "data = ds3"
   ]
  },
  {
   "cell_type": "code",
   "execution_count": 2,
   "metadata": {
    "colab": {
     "base_uri": "https://localhost:8080/"
    },
    "id": "QP64ONxw87su",
    "outputId": "5c9a540c-f331-4944-8bed-b490fa00d24e"
   },
   "outputs": [
    {
     "name": "stdout",
     "output_type": "stream",
     "text": [
      "\n",
      "Describe():\n",
      " count     7.000000\n",
      "mean     29.571429\n",
      "std      10.130106\n",
      "min      21.000000\n",
      "25%      23.000000\n",
      "50%      25.000000\n",
      "75%      33.000000\n",
      "max      49.000000\n",
      "dtype: float64\n"
     ]
    }
   ],
   "source": [
    "# Full descriptive summary\n",
    "summary = data.describe()\n",
    "print(\"\\nDescribe():\\n\", summary)"
   ]
  },
  {
   "cell_type": "code",
   "execution_count": 3,
   "metadata": {
    "colab": {
     "base_uri": "https://localhost:8080/"
    },
    "id": "y7qHSDO86khO",
    "outputId": "0faa8c08-a828-4865-f71b-a058deb86cc7"
   },
   "outputs": [
    {
     "name": "stdout",
     "output_type": "stream",
     "text": [
      "Mean: 29.571428571428573\n",
      "Median: 25.0\n",
      "Mode: 0    21\n",
      "1    22\n",
      "2    24\n",
      "3    25\n",
      "4    29\n",
      "5    37\n",
      "6    49\n",
      "dtype: int64\n"
     ]
    }
   ],
   "source": [
    "# Measures of Central Tendency\n",
    "mean = data.mean()\n",
    "median = data.median()\n",
    "mode = data.mode()   # can be multiple modes\n",
    "print(\"Mean:\", mean)\n",
    "print(\"Median:\", median)\n",
    "print(\"Mode:\", mode)"
   ]
  },
  {
   "cell_type": "code",
   "execution_count": 4,
   "metadata": {
    "colab": {
     "base_uri": "https://localhost:8080/"
    },
    "id": "8PVBjZ6Q10uK",
    "outputId": "16357451-03b4-44ce-949a-246ce71e5b26"
   },
   "outputs": [
    {
     "name": "stdout",
     "output_type": "stream",
     "text": [
      "Variance: 102.61904761904763\n",
      "Standard Deviation: 10.130106002359879\n"
     ]
    }
   ],
   "source": [
    "# Measures of spread\n",
    "variance = data.var()\n",
    "std_dev = data.std()\n",
    "print(\"Variance:\", variance)\n",
    "print(\"Standard Deviation:\", std_dev)"
   ]
  },
  {
   "cell_type": "code",
   "execution_count": 5,
   "metadata": {
    "colab": {
     "base_uri": "https://localhost:8080/"
    },
    "id": "j-7lnuODxskz",
    "outputId": "5e74122f-589b-4921-ffb7-9ed3e0166765"
   },
   "outputs": [
    {
     "name": "stdout",
     "output_type": "stream",
     "text": [
      "Q1: 23.0\n",
      "Q2 (Median): 25.0\n",
      "Q3: 33.0\n"
     ]
    }
   ],
   "source": [
    "# Quartiles using quantile()\n",
    "Q1 = data.quantile(0.25)\n",
    "Q2 = data.quantile(0.50)  # median\n",
    "Q3 = data.quantile(0.75)\n",
    "\n",
    "print(\"Q1:\", Q1)\n",
    "print(\"Q2 (Median):\", Q2)\n",
    "print(\"Q3:\", Q3)"
   ]
  },
  {
   "cell_type": "code",
   "execution_count": 6,
   "metadata": {
    "colab": {
     "base_uri": "https://localhost:8080/"
    },
    "id": "ggQyW-VU6gLX",
    "outputId": "9d9f6609-e79a-4e65-9614-2855c75e55dc"
   },
   "outputs": [
    {
     "name": "stdout",
     "output_type": "stream",
     "text": [
      "============================================================\n",
      "IQR, FENCES, OUTLIERS\n",
      "IQR: 10.0\n",
      "Lower fence: 8.0\n",
      "Upper fence: 48.0\n",
      "Outliers: [49]\n"
     ]
    }
   ],
   "source": [
    "print(\"=\"*60)\n",
    "print(\"IQR, FENCES, OUTLIERS\")\n",
    "IQR = Q3 - Q1\n",
    "lower_fence = Q1 - 1.5 * IQR\n",
    "upper_fence = Q3 + 1.5 * IQR\n",
    "outliers = data[(data < lower_fence) | (data > upper_fence)]\n",
    "\n",
    "print(\"IQR:\", IQR)\n",
    "print(\"Lower fence:\", lower_fence)\n",
    "print(\"Upper fence:\", upper_fence)\n",
    "print(\"Outliers:\", outliers.tolist() if not outliers.empty else \"None\")"
   ]
  },
  {
   "cell_type": "code",
   "execution_count": 7,
   "metadata": {
    "colab": {
     "base_uri": "https://localhost:8080/",
     "height": 452
    },
    "id": "YQRjV1iv0f-z",
    "outputId": "d53b71cf-8303-438e-e6a9-5f89b359f5d7"
   },
   "outputs": [
    {
     "data": {
      "image/png": "[encoded data removed]",
      "text/plain": [
       "<Figure size 640x480 with 1 Axes>"
      ]
     },
     "metadata": {},
     "output_type": "display_data"
    }
   ],
   "source": [
    "\n",
    "# Create boxplot with Tukey method (IQR, whis=1.5)\n",
    "plt.boxplot(data) # matplotlib.pyplot.boxplot uses the Tukey method by default.\n",
    "plt.title(\"Boxplot\")\n",
    "plt.ylabel(\"Values\")\n",
    "plt.show()"
   ]
  },
  {
   "cell_type": "code",
   "execution_count": null,
   "metadata": {},
   "outputs": [],
   "source": []
  },
  {
   "cell_type": "markdown",
   "metadata": {},
   "source": [
    "# Part 2 - Temperature data"
   ]
  },
  {
   "cell_type": "code",
   "execution_count": 8,
   "metadata": {},
   "outputs": [
    {
     "name": "stdout",
     "output_type": "stream",
     "text": [
      "Mean tempMin: 49.370000000000005\n",
      "Mean tempMax: 64.39000000000001\n",
      "Median tempMin: 49.25\n",
      "Median tempMax: 66.05\n",
      "SD tempMin: 3.3915090053445724\n",
      "SD tempMax: 5.491296143291976\n",
      "\n",
      "Summary tempMin:\n",
      " count    10.000000\n",
      "mean     49.370000\n",
      "std       3.391509\n",
      "min      43.600000\n",
      "25%      47.675000\n",
      "50%      49.250000\n",
      "75%      52.275000\n",
      "max      54.100000\n",
      "dtype: float64\n",
      "\n",
      "Summary tempMax:\n",
      " count    10.000000\n",
      "mean     64.390000\n",
      "std       5.491296\n",
      "min      55.700000\n",
      "25%      60.050000\n",
      "50%      66.050000\n",
      "75%      68.475000\n",
      "max      71.500000\n",
      "dtype: float64\n"
     ]
    }
   ],
   "source": [
    "# --- Data ---\n",
    "tempMin = pd.Series([50.7, 52.8, 48.6, 53.0, 49.9, 47.9, 54.1, 47.6, 43.6, 45.5])\n",
    "tempMax = pd.Series([59.5, 55.7, 57.3, 71.5, 69.8, 68.8, 67.5, 66.0, 66.1, 61.7])\n",
    "\n",
    "# --- Means ---\n",
    "print(\"Mean tempMin:\", tempMin.mean())\n",
    "print(\"Mean tempMax:\", tempMax.mean())\n",
    "\n",
    "# --- Medians ---\n",
    "print(\"Median tempMin:\", tempMin.median())\n",
    "print(\"Median tempMax:\", tempMax.median())\n",
    "\n",
    "# --- Standard deviations ---\n",
    "print(\"SD tempMin:\", tempMin.std())\n",
    "print(\"SD tempMax:\", tempMax.std())\n",
    "\n",
    "# --- Summaries ---\n",
    "print(\"\\nSummary tempMin:\\n\", tempMin.describe())\n",
    "print(\"\\nSummary tempMax:\\n\", tempMax.describe())"
   ]
  },
  {
   "cell_type": "code",
   "execution_count": 9,
   "metadata": {},
   "outputs": [
    {
     "data": {
      "image/png": "[encoded data removed]",
      "text/plain": [
       "<Figure size 640x480 with 1 Axes>"
      ]
     },
     "metadata": {},
     "output_type": "display_data"
    },
    {
     "data": {
      "image/png": "[encoded data removed]",
      "text/plain": [
       "<Figure size 640x480 with 1 Axes>"
      ]
     },
     "metadata": {},
     "output_type": "display_data"
    }
   ],
   "source": [
    "# --- Boxplots ---\n",
    "plt.boxplot(tempMin, vert=False)\n",
    "plt.title(\"Boxplot tempMin\")\n",
    "plt.show()\n",
    "\n",
    "plt.boxplot([tempMin, tempMax], tick_labels=[\"tempMin\", \"tempMax\"])\n",
    "plt.title(\"Boxplot tempMin vs tempMax\")\n",
    "plt.show()"
   ]
  },
  {
   "cell_type": "code",
   "execution_count": 10,
   "metadata": {},
   "outputs": [
    {
     "name": "stdout",
     "output_type": "stream",
     "text": [
      "IQR: 4.600000000000001\n",
      "Lower Fence: 40.77499999999999\n",
      "Upper Fence: 59.175\n",
      "Count below lowerFence: 0\n",
      "Count above upperFence: 0\n",
      "\n",
      "New Summary tempMin:\n",
      " count    11.000000\n",
      "mean     50.790909\n",
      "std       5.706217\n",
      "min      43.600000\n",
      "25%      47.750000\n",
      "50%      49.900000\n",
      "75%      52.900000\n",
      "max      65.000000\n",
      "dtype: float64\n"
     ]
    },
    {
     "data": {
      "image/png": "[encoded data removed]",
      "text/plain": [
       "<Figure size 640x480 with 1 Axes>"
      ]
     },
     "metadata": {},
     "output_type": "display_data"
    },
    {
     "name": "stdout",
     "output_type": "stream",
     "text": [
      "New Lower Fence: 40.025000000000006\n",
      "New Upper Fence: 60.625\n",
      "Count below lowerFence: 0\n",
      "Count above upperFence: 1\n",
      "Outliers: [65.]\n",
      "Variance tempMin: 32.56090909090909\n",
      "SD via sqrt(var): 5.706216705568506\n",
      "SD directly via pandas: 5.706216705568506\n"
     ]
    }
   ],
   "source": [
    "# --- IQR, fences, outliers for tempMin ---\n",
    "q1, q3 = tempMin.quantile(0.25), tempMin.quantile(0.75)\n",
    "iqr = q3 - q1\n",
    "lowerFence = q1 - 1.5 * iqr\n",
    "upperFence = q3 + 1.5 * iqr\n",
    "\n",
    "print(\"IQR:\", iqr)\n",
    "print(\"Lower Fence:\", lowerFence)\n",
    "print(\"Upper Fence:\", upperFence)\n",
    "print(\"Count below lowerFence:\", (tempMin < lowerFence).sum())\n",
    "print(\"Count above upperFence:\", (tempMin > upperFence).sum())\n",
    "\n",
    "# --- Addin an outlier, value 65 to tempMin ---\n",
    "tempMin = pd.Series([50.7, 52.8, 48.6, 53.0, 49.9, 47.9, 54.1, 47.6, 43.6, 45.5, 65])\n",
    "\n",
    "print(\"\\nNew Summary tempMin:\\n\", tempMin.describe())\n",
    "\n",
    "plt.boxplot([tempMin, tempMax], tick_labels=[\"tempMin\", \"tempMax\"])\n",
    "plt.title(\"Boxplot with outlier in tempMin\")\n",
    "plt.show()\n",
    "\n",
    "# --- New IQR & fences after adding 65 ---\n",
    "q1, q3 = tempMin.quantile(0.25), tempMin.quantile(0.75)\n",
    "iqr = q3 - q1\n",
    "lowerFence = q1 - 1.5 * iqr\n",
    "upperFence = q3 + 1.5 * iqr\n",
    "\n",
    "print(\"New Lower Fence:\", lowerFence)\n",
    "print(\"New Upper Fence:\", upperFence)\n",
    "print(\"Count below lowerFence:\", (tempMin < lowerFence).sum())\n",
    "print(\"Count above upperFence:\", (tempMin > upperFence).sum())\n",
    "print(\"Outliers:\", tempMin[tempMin > upperFence].values)\n",
    "\n",
    "# --- Variance and SD manually ---\n",
    "print(\"Variance tempMin:\", tempMin.var())\n",
    "print(\"SD via sqrt(var):\", math.sqrt(tempMin.var()))\n",
    "print(\"SD directly via pandas:\", tempMin.std())"
   ]
  },
  {
   "cell_type": "markdown",
   "metadata": {},
   "source": [
    "# Part 3 intake dataset"
   ]
  },
  {
   "cell_type": "code",
   "execution_count": 11,
   "metadata": {},
   "outputs": [
    {
     "name": "stdout",
     "output_type": "stream",
     "text": [
      "    pre  post\n",
      "1  5260  3910\n",
      "2  5470  4220\n",
      "3  5640  3885\n",
      "4  6180  5160\n",
      "5  6390  5645\n"
     ]
    },
    {
     "data": {
      "image/png": "[encoded data removed]",
      "text/plain": [
       "<Figure size 640x480 with 1 Axes>"
      ]
     },
     "metadata": {},
     "output_type": "display_data"
    },
    {
     "data": {
      "image/png": "[encoded data removed]",
      "text/plain": [
       "<Figure size 640x480 with 1 Axes>"
      ]
     },
     "metadata": {},
     "output_type": "display_data"
    }
   ],
   "source": [
    "# --- Load intake dataset ---\n",
    "intake = pd.read_csv(\"https://raw.githubusercontent.com/hogeschool/CMIBOD021T-2526/refs/heads/main/data/iswr/intake.csv\")\n",
    "print(intake.head())\n",
    "\n",
    "# --- Boxplots for intake ---\n",
    "plt.boxplot(intake[\"pre\"], vert=False)\n",
    "plt.title(\"Boxplot pre\")\n",
    "plt.show()\n",
    "\n",
    "plt.boxplot([intake[\"pre\"], intake[\"post\"]], tick_labels=[\"pre\", \"post\"])\n",
    "plt.title(\"Boxplot pre vs post\")\n",
    "plt.show()"
   ]
  },
  {
   "cell_type": "code",
   "execution_count": 20,
   "metadata": {},
   "outputs": [
    {
     "name": "stdout",
     "output_type": "stream",
     "text": [
      "     \"expend\"   \"stature\"\n",
      "1        9.21     \"obese\"\n",
      "2        7.53      \"lean\"\n",
      "3        7.48      \"lean\"\n",
      "4        8.08      \"lean\"\n",
      "5        8.09      \"lean\"\n"
     ]
    },
    {
     "ename": "KeyError",
     "evalue": "'expend'",
     "output_type": "error",
     "traceback": [
      "\u001b[31m---------------------------------------------------------------------------\u001b[39m",
      "\u001b[31mKeyError\u001b[39m                                  Traceback (most recent call last)",
      "\u001b[36mFile \u001b[39m\u001b[32m~\\venvs\\stats313\\Lib\\site-packages\\pandas\\core\\indexes\\base.py:3812\u001b[39m, in \u001b[36mIndex.get_loc\u001b[39m\u001b[34m(self, key)\u001b[39m\n\u001b[32m   3811\u001b[39m \u001b[38;5;28;01mtry\u001b[39;00m:\n\u001b[32m-> \u001b[39m\u001b[32m3812\u001b[39m     \u001b[38;5;28;01mreturn\u001b[39;00m \u001b[38;5;28;43mself\u001b[39;49m\u001b[43m.\u001b[49m\u001b[43m_engine\u001b[49m\u001b[43m.\u001b[49m\u001b[43mget_loc\u001b[49m\u001b[43m(\u001b[49m\u001b[43mcasted_key\u001b[49m\u001b[43m)\u001b[49m\n\u001b[32m   3813\u001b[39m \u001b[38;5;28;01mexcept\u001b[39;00m \u001b[38;5;167;01mKeyError\u001b[39;00m \u001b[38;5;28;01mas\u001b[39;00m err:\n",
      "\u001b[36mFile \u001b[39m\u001b[32mpandas/_libs/index.pyx:167\u001b[39m, in \u001b[36mpandas._libs.index.IndexEngine.get_loc\u001b[39m\u001b[34m()\u001b[39m\n",
      "\u001b[36mFile \u001b[39m\u001b[32mpandas/_libs/index.pyx:196\u001b[39m, in \u001b[36mpandas._libs.index.IndexEngine.get_loc\u001b[39m\u001b[34m()\u001b[39m\n",
      "\u001b[36mFile \u001b[39m\u001b[32mpandas/_libs/hashtable_class_helper.pxi:7088\u001b[39m, in \u001b[36mpandas._libs.hashtable.PyObjectHashTable.get_item\u001b[39m\u001b[34m()\u001b[39m\n",
      "\u001b[36mFile \u001b[39m\u001b[32mpandas/_libs/hashtable_class_helper.pxi:7096\u001b[39m, in \u001b[36mpandas._libs.hashtable.PyObjectHashTable.get_item\u001b[39m\u001b[34m()\u001b[39m\n",
      "\u001b[31mKeyError\u001b[39m: 'expend'",
      "\nThe above exception was the direct cause of the following exception:\n",
      "\u001b[31mKeyError\u001b[39m                                  Traceback (most recent call last)",
      "\u001b[36mCell\u001b[39m\u001b[36m \u001b[39m\u001b[32mIn[20]\u001b[39m\u001b[32m, line 7\u001b[39m\n\u001b[32m      3\u001b[39m \u001b[38;5;28mprint\u001b[39m(energy.head())\n\u001b[32m      5\u001b[39m \u001b[38;5;66;03m# --- Select lean and obese expenditures ---\u001b[39;00m\n\u001b[32m      6\u001b[39m \u001b[38;5;66;03m# Subset: Series\u001b[39;00m\n\u001b[32m----> \u001b[39m\u001b[32m7\u001b[39m expendLean = \u001b[43menergy\u001b[49m\u001b[43m[\u001b[49m\u001b[33;43m\"\u001b[39;49m\u001b[33;43mexpend\u001b[39;49m\u001b[33;43m\"\u001b[39;49m\u001b[43m]\u001b[49m > \u001b[32m8\u001b[39m\n",
      "\u001b[36mFile \u001b[39m\u001b[32m~\\venvs\\stats313\\Lib\\site-packages\\pandas\\core\\frame.py:4107\u001b[39m, in \u001b[36mDataFrame.__getitem__\u001b[39m\u001b[34m(self, key)\u001b[39m\n\u001b[32m   4105\u001b[39m \u001b[38;5;28;01mif\u001b[39;00m \u001b[38;5;28mself\u001b[39m.columns.nlevels > \u001b[32m1\u001b[39m:\n\u001b[32m   4106\u001b[39m     \u001b[38;5;28;01mreturn\u001b[39;00m \u001b[38;5;28mself\u001b[39m._getitem_multilevel(key)\n\u001b[32m-> \u001b[39m\u001b[32m4107\u001b[39m indexer = \u001b[38;5;28;43mself\u001b[39;49m\u001b[43m.\u001b[49m\u001b[43mcolumns\u001b[49m\u001b[43m.\u001b[49m\u001b[43mget_loc\u001b[49m\u001b[43m(\u001b[49m\u001b[43mkey\u001b[49m\u001b[43m)\u001b[49m\n\u001b[32m   4108\u001b[39m \u001b[38;5;28;01mif\u001b[39;00m is_integer(indexer):\n\u001b[32m   4109\u001b[39m     indexer = [indexer]\n",
      "\u001b[36mFile \u001b[39m\u001b[32m~\\venvs\\stats313\\Lib\\site-packages\\pandas\\core\\indexes\\base.py:3819\u001b[39m, in \u001b[36mIndex.get_loc\u001b[39m\u001b[34m(self, key)\u001b[39m\n\u001b[32m   3814\u001b[39m     \u001b[38;5;28;01mif\u001b[39;00m \u001b[38;5;28misinstance\u001b[39m(casted_key, \u001b[38;5;28mslice\u001b[39m) \u001b[38;5;129;01mor\u001b[39;00m (\n\u001b[32m   3815\u001b[39m         \u001b[38;5;28misinstance\u001b[39m(casted_key, abc.Iterable)\n\u001b[32m   3816\u001b[39m         \u001b[38;5;129;01mand\u001b[39;00m \u001b[38;5;28many\u001b[39m(\u001b[38;5;28misinstance\u001b[39m(x, \u001b[38;5;28mslice\u001b[39m) \u001b[38;5;28;01mfor\u001b[39;00m x \u001b[38;5;129;01min\u001b[39;00m casted_key)\n\u001b[32m   3817\u001b[39m     ):\n\u001b[32m   3818\u001b[39m         \u001b[38;5;28;01mraise\u001b[39;00m InvalidIndexError(key)\n\u001b[32m-> \u001b[39m\u001b[32m3819\u001b[39m     \u001b[38;5;28;01mraise\u001b[39;00m \u001b[38;5;167;01mKeyError\u001b[39;00m(key) \u001b[38;5;28;01mfrom\u001b[39;00m\u001b[38;5;250m \u001b[39m\u001b[34;01merr\u001b[39;00m\n\u001b[32m   3820\u001b[39m \u001b[38;5;28;01mexcept\u001b[39;00m \u001b[38;5;167;01mTypeError\u001b[39;00m:\n\u001b[32m   3821\u001b[39m     \u001b[38;5;66;03m# If we have a listlike key, _check_indexing_error will raise\u001b[39;00m\n\u001b[32m   3822\u001b[39m     \u001b[38;5;66;03m#  InvalidIndexError. Otherwise we fall through and re-raise\u001b[39;00m\n\u001b[32m   3823\u001b[39m     \u001b[38;5;66;03m#  the TypeError.\u001b[39;00m\n\u001b[32m   3824\u001b[39m     \u001b[38;5;28mself\u001b[39m._check_indexing_error(key)\n",
      "\u001b[31mKeyError\u001b[39m: 'expend'"
     ]
    }
   ],
   "source": [
    "# --- Load energy dataset ---\n",
    "energy = pd.read_csv(\"https://raw.githubusercontent.com/hogeschool/CMIBOD021T-2526/refs/heads/main/data/iswr/energy.csv\")\n",
    "print(energy.head())\n",
    "\n",
    "# --- Select lean and obese expenditures ---\n",
    "# Subset: Series\n",
    "expendLean = energy[\"expend\"] > 8"
   ]
  },
  {
   "cell_type": "code",
   "execution_count": 16,
   "metadata": {},
   "outputs": [
    {
     "name": "stdout",
     "output_type": "stream",
     "text": [
      "     \"expend\"   \"stature\"\n",
      "1        9.21     \"obese\"\n",
      "2        7.53      \"lean\"\n",
      "3        7.48      \"lean\"\n",
      "4        8.08      \"lean\"\n",
      "5        8.09      \"lean\"\n"
     ]
    },
    {
     "ename": "KeyError",
     "evalue": "'stature'",
     "output_type": "error",
     "traceback": [
      "\u001b[31m---------------------------------------------------------------------------\u001b[39m",
      "\u001b[31mKeyError\u001b[39m                                  Traceback (most recent call last)",
      "\u001b[36mFile \u001b[39m\u001b[32m~\\venvs\\stats313\\Lib\\site-packages\\pandas\\core\\indexes\\base.py:3812\u001b[39m, in \u001b[36mIndex.get_loc\u001b[39m\u001b[34m(self, key)\u001b[39m\n\u001b[32m   3811\u001b[39m \u001b[38;5;28;01mtry\u001b[39;00m:\n\u001b[32m-> \u001b[39m\u001b[32m3812\u001b[39m     \u001b[38;5;28;01mreturn\u001b[39;00m \u001b[38;5;28;43mself\u001b[39;49m\u001b[43m.\u001b[49m\u001b[43m_engine\u001b[49m\u001b[43m.\u001b[49m\u001b[43mget_loc\u001b[49m\u001b[43m(\u001b[49m\u001b[43mcasted_key\u001b[49m\u001b[43m)\u001b[49m\n\u001b[32m   3813\u001b[39m \u001b[38;5;28;01mexcept\u001b[39;00m \u001b[38;5;167;01mKeyError\u001b[39;00m \u001b[38;5;28;01mas\u001b[39;00m err:\n",
      "\u001b[36mFile \u001b[39m\u001b[32mpandas/_libs/index.pyx:167\u001b[39m, in \u001b[36mpandas._libs.index.IndexEngine.get_loc\u001b[39m\u001b[34m()\u001b[39m\n",
      "\u001b[36mFile \u001b[39m\u001b[32mpandas/_libs/index.pyx:196\u001b[39m, in \u001b[36mpandas._libs.index.IndexEngine.get_loc\u001b[39m\u001b[34m()\u001b[39m\n",
      "\u001b[36mFile \u001b[39m\u001b[32mpandas/_libs/hashtable_class_helper.pxi:7088\u001b[39m, in \u001b[36mpandas._libs.hashtable.PyObjectHashTable.get_item\u001b[39m\u001b[34m()\u001b[39m\n",
      "\u001b[36mFile \u001b[39m\u001b[32mpandas/_libs/hashtable_class_helper.pxi:7096\u001b[39m, in \u001b[36mpandas._libs.hashtable.PyObjectHashTable.get_item\u001b[39m\u001b[34m()\u001b[39m\n",
      "\u001b[31mKeyError\u001b[39m: 'stature'",
      "\nThe above exception was the direct cause of the following exception:\n",
      "\u001b[31mKeyError\u001b[39m                                  Traceback (most recent call last)",
      "\u001b[36mCell\u001b[39m\u001b[36m \u001b[39m\u001b[32mIn[16]\u001b[39m\u001b[32m, line 7\u001b[39m\n\u001b[32m      3\u001b[39m \u001b[38;5;28mprint\u001b[39m(energy.head())\n\u001b[32m      5\u001b[39m \u001b[38;5;66;03m# --- Select lean and obese expenditures ---\u001b[39;00m\n\u001b[32m      6\u001b[39m \u001b[38;5;66;03m# Subset: Series\u001b[39;00m\n\u001b[32m----> \u001b[39m\u001b[32m7\u001b[39m expendLean = energy.loc[\u001b[43menergy\u001b[49m\u001b[43m[\u001b[49m\u001b[33;43m\"\u001b[39;49m\u001b[33;43mstature\u001b[39;49m\u001b[33;43m\"\u001b[39;49m\u001b[43m]\u001b[49m == \u001b[33m\"\u001b[39m\u001b[33mlean\u001b[39m\u001b[33m\"\u001b[39m, \u001b[33m\"\u001b[39m\u001b[33mexpend\u001b[39m\u001b[33m\"\u001b[39m]\n\u001b[32m      8\u001b[39m expendObese = energy.loc[energy[\u001b[33m\"\u001b[39m\u001b[33mstature\u001b[39m\u001b[33m\"\u001b[39m] == \u001b[33m\"\u001b[39m\u001b[33mobese\u001b[39m\u001b[33m\"\u001b[39m, \u001b[33m\"\u001b[39m\u001b[33mexpend\u001b[39m\u001b[33m\"\u001b[39m]\n\u001b[32m     10\u001b[39m \u001b[38;5;66;03m# --- Boxplot lean vs obese ---\u001b[39;00m\n",
      "\u001b[36mFile \u001b[39m\u001b[32m~\\venvs\\stats313\\Lib\\site-packages\\pandas\\core\\frame.py:4107\u001b[39m, in \u001b[36mDataFrame.__getitem__\u001b[39m\u001b[34m(self, key)\u001b[39m\n\u001b[32m   4105\u001b[39m \u001b[38;5;28;01mif\u001b[39;00m \u001b[38;5;28mself\u001b[39m.columns.nlevels > \u001b[32m1\u001b[39m:\n\u001b[32m   4106\u001b[39m     \u001b[38;5;28;01mreturn\u001b[39;00m \u001b[38;5;28mself\u001b[39m._getitem_multilevel(key)\n\u001b[32m-> \u001b[39m\u001b[32m4107\u001b[39m indexer = \u001b[38;5;28;43mself\u001b[39;49m\u001b[43m.\u001b[49m\u001b[43mcolumns\u001b[49m\u001b[43m.\u001b[49m\u001b[43mget_loc\u001b[49m\u001b[43m(\u001b[49m\u001b[43mkey\u001b[49m\u001b[43m)\u001b[49m\n\u001b[32m   4108\u001b[39m \u001b[38;5;28;01mif\u001b[39;00m is_integer(indexer):\n\u001b[32m   4109\u001b[39m     indexer = [indexer]\n",
      "\u001b[36mFile \u001b[39m\u001b[32m~\\venvs\\stats313\\Lib\\site-packages\\pandas\\core\\indexes\\base.py:3819\u001b[39m, in \u001b[36mIndex.get_loc\u001b[39m\u001b[34m(self, key)\u001b[39m\n\u001b[32m   3814\u001b[39m     \u001b[38;5;28;01mif\u001b[39;00m \u001b[38;5;28misinstance\u001b[39m(casted_key, \u001b[38;5;28mslice\u001b[39m) \u001b[38;5;129;01mor\u001b[39;00m (\n\u001b[32m   3815\u001b[39m         \u001b[38;5;28misinstance\u001b[39m(casted_key, abc.Iterable)\n\u001b[32m   3816\u001b[39m         \u001b[38;5;129;01mand\u001b[39;00m \u001b[38;5;28many\u001b[39m(\u001b[38;5;28misinstance\u001b[39m(x, \u001b[38;5;28mslice\u001b[39m) \u001b[38;5;28;01mfor\u001b[39;00m x \u001b[38;5;129;01min\u001b[39;00m casted_key)\n\u001b[32m   3817\u001b[39m     ):\n\u001b[32m   3818\u001b[39m         \u001b[38;5;28;01mraise\u001b[39;00m InvalidIndexError(key)\n\u001b[32m-> \u001b[39m\u001b[32m3819\u001b[39m     \u001b[38;5;28;01mraise\u001b[39;00m \u001b[38;5;167;01mKeyError\u001b[39;00m(key) \u001b[38;5;28;01mfrom\u001b[39;00m\u001b[38;5;250m \u001b[39m\u001b[34;01merr\u001b[39;00m\n\u001b[32m   3820\u001b[39m \u001b[38;5;28;01mexcept\u001b[39;00m \u001b[38;5;167;01mTypeError\u001b[39;00m:\n\u001b[32m   3821\u001b[39m     \u001b[38;5;66;03m# If we have a listlike key, _check_indexing_error will raise\u001b[39;00m\n\u001b[32m   3822\u001b[39m     \u001b[38;5;66;03m#  InvalidIndexError. Otherwise we fall through and re-raise\u001b[39;00m\n\u001b[32m   3823\u001b[39m     \u001b[38;5;66;03m#  the TypeError.\u001b[39;00m\n\u001b[32m   3824\u001b[39m     \u001b[38;5;28mself\u001b[39m._check_indexing_error(key)\n",
      "\u001b[31mKeyError\u001b[39m: 'stature'"
     ]
    }
   ],
   "source": [
    "# --- Load energy dataset ---\n",
    "energy = pd.read_csv(\"https://raw.githubusercontent.com/hogeschool/CMIBOD021T-2526/refs/heads/main/data/iswr/energy.csv\")\n",
    "print(energy.head())\n",
    "\n",
    "# --- Select lean and obese expenditures ---\n",
    "# Subset: Series\n",
    "expendLean = energy.loc[energy[\"stature\"] == \"lean\", \"expend\"]\n",
    "expendObese = energy.loc[energy[\"stature\"] == \"obese\", \"expend\"]\n",
    "\n",
    "# --- Boxplot lean vs obese ---\n",
    "plt.boxplot([expendLean, expendObese], tick_labels=[\"lean\", \"obese\"])\n",
    "plt.title(\"Boxplot expend by group\")\n",
    "plt.show()\n",
    "\n",
    "# --- Equivalent to R: boxplot(expend ~ stature) ---\n",
    "energy.boxplot(column=\"expend\", by=\"stature\")\n",
    "plt.title(\"Boxplot expend ~ stature\")\n",
    "plt.suptitle(\"\")  # remove automatic title\n",
    "plt.show()"
   ]
  },
  {
   "cell_type": "code",
   "execution_count": null,
   "metadata": {},
   "outputs": [],
   "source": []
  }
 ],
 "metadata": {
  "colab": {
   "provenance": []
  },
  "kernelspec": {
   "display_name": "Python 3 (ipykernel)",
   "language": "python",
   "name": "python3"
  },
  "language_info": {
   "codemirror_mode": {
    "name": "ipython",
    "version": 3
   },
   "file_extension": ".py",
   "mimetype": "text/x-python",
   "name": "python",
   "nbconvert_exporter": "python",
   "pygments_lexer": "ipython3",
   "version": "3.13.7"
  }
 },
 "nbformat": 4,
 "nbformat_minor": 4
}
