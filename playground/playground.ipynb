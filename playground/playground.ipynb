{
 "cells": [
  {
   "cell_type": "markdown",
   "id": "9df4b537-30af-4b6d-9074-d8a41d5910ab",
   "metadata": {},
   "source": [
    "# Week 5 Exercises - Solutions"
   ]
  },
  {
   "cell_type": "code",
   "execution_count": null,
   "id": "0fc93f19-4995-46bf-bd1d-5be2eccb8173",
   "metadata": {},
   "outputs": [],
   "source": []
  }
 ],
 "metadata": {
  "kernelspec": {
   "display_name": "Python 3 (ipykernel)",
   "language": "python",
   "name": "python3"
  },
  "language_info": {
   "codemirror_mode": {
    "name": "ipython",
    "version": 3
   },
   "file_extension": ".py",
   "mimetype": "text/x-python",
   "name": "python",
   "nbconvert_exporter": "python",
   "pygments_lexer": "ipython3",
   "version": "3.12.2"
  }
 },
 "nbformat": 4,
 "nbformat_minor": 5
}
